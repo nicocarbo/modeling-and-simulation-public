{
 "cells": [
  {
   "cell_type": "markdown",
   "metadata": {},
   "source": [
    "# Introduction to `Python`"
   ]
  },
  {
   "cell_type": "markdown",
   "metadata": {},
   "source": [
    "> This material is adapted from the [Introduction to Python in Data Science for ESM - TU Berlin](https://fneum.github.io/data-science-for-esm/01-workshop-python.html)"
   ]
  },
  {
   "cell_type": "markdown",
   "metadata": {
    "tags": []
   },
   "source": [
    "## Running Python ##\n",
    "\n",
    "There are three main ways to use Python.\n",
    "\n",
    "1. By running a Python file, e.g. `python myscript.py`\n",
    "2. Through an interactive console (Python interpreter or [iPython shell](https://ipython.org/))\n",
    "3. In an interactive notebook (e.g. [Jupyter](https://jupyter.org/), `.ipynb` files)\n",
    "\n",
    "In this course, the codes provided will be mostly via **Jupyter notebooks**. In class, we will work using an interactive console."
   ]
  },
  {
   "cell_type": "markdown",
   "metadata": {
    "tags": []
   },
   "source": [
    "## Basic Variables: Numbers ##"
   ]
  },
  {
   "cell_type": "code",
   "execution_count": null,
   "metadata": {},
   "outputs": [],
   "source": [
    "# comments are anything that comes after the \"#\" symbol\n",
    "a = 1  # assign integer 1 to variable a\n",
    "b = \"hello\"  # assign string \"hello\" to variable b"
   ]
  },
  {
   "cell_type": "markdown",
   "metadata": {},
   "source": [
    "The following identifiers are used as reserved words and should not be used as variable names:\n",
    "\n",
    "    False      class      finally    is         return\n",
    "    None       continue   for        lambda     try\n",
    "    True       def        from       nonlocal   while\n",
    "    and        del        global     not        with\n",
    "    as         elif       if         or         yield\n",
    "    assert     else       import     pass\n",
    "    break      except     in         raise\n",
    "    \n",
    "Additionally, the following built-in utility functions are always available:\n",
    "\n",
    "    abs() dict() help() min() setattr() all() dir() hex() next() slice() any()\n",
    "    divmod() id() object() sorted() ascii() enumerate() input() oct() staticmethod()\n",
    "    bin() eval() int() open() str() bool() exec() isinstance() ord() sum() bytearray()\n",
    "    filter() issubclass() pow() super() bytes() float() iter() print() tuple()\n",
    "    callable() format() len() property() type() chr() frozenset() list() range()\n",
    "    vars() classmethod() getattr() locals() repr() zip() compile() globals() map()\n",
    "    reversed() __import__() complex() hasattr() max() round() delattr() hash()\n",
    "    memoryview() set()"
   ]
  },
  {
   "cell_type": "code",
   "execution_count": null,
   "metadata": {},
   "outputs": [],
   "source": [
    "# how to we see our variables?\n",
    "print(a)\n",
    "print(b)\n",
    "print(a, b)"
   ]
  },
  {
   "cell_type": "markdown",
   "metadata": {},
   "source": [
    "All variables are objects. Every object has a type (class). To find out what type your variables are"
   ]
  },
  {
   "cell_type": "code",
   "execution_count": null,
   "metadata": {},
   "outputs": [],
   "source": [
    "print(type(a))\n",
    "print(type(b))"
   ]
  },
  {
   "cell_type": "markdown",
   "metadata": {},
   "source": [
    "As a shortcut, iPython notebooks will automatically print whatever is on the last line:"
   ]
  },
  {
   "cell_type": "code",
   "execution_count": null,
   "metadata": {},
   "outputs": [],
   "source": [
    "type(b)"
   ]
  },
  {
   "cell_type": "markdown",
   "metadata": {},
   "source": [
    "We can check for the type of an object:"
   ]
  },
  {
   "cell_type": "code",
   "execution_count": null,
   "metadata": {},
   "outputs": [],
   "source": [
    "print(type(a) is int)\n",
    "print(type(a) is str)"
   ]
  },
  {
   "cell_type": "markdown",
   "metadata": {},
   "source": [
    "The `NoneType` is its own type in Python. It only has one possible value, `None` - it represents an object with no value. "
   ]
  },
  {
   "cell_type": "code",
   "execution_count": null,
   "metadata": {},
   "outputs": [],
   "source": [
    "n = None"
   ]
  },
  {
   "cell_type": "code",
   "execution_count": null,
   "metadata": {},
   "outputs": [],
   "source": [
    "print(n)"
   ]
  },
  {
   "cell_type": "code",
   "execution_count": null,
   "metadata": {},
   "outputs": [],
   "source": [
    "type(n)"
   ]
  },
  {
   "cell_type": "markdown",
   "metadata": {},
   "source": [
    "Python has ways of creating strings by filling in the blanks and formatting them nicely.\n",
    "\n",
    "This is helpful for when you want to *print* statements that include variables or statements."
   ]
  },
  {
   "cell_type": "code",
   "execution_count": null,
   "metadata": {},
   "outputs": [],
   "source": [
    "name = \"Reuter West Power Plant\"\n",
    "capacity = 564.123456\n",
    "technology = \"CHP\"\n",
    "message = f\"In Berlin, there is a {technology} power plant {name}. It has a nominal capacity of {capacity:.2f} MW.\"\n",
    "message"
   ]
  },
  {
   "cell_type": "markdown",
   "metadata": {
    "tags": []
   },
   "source": [
    "## Math ##\n",
    "\n",
    "Basic arithmetic and boolean logic is part of the core Python library."
   ]
  },
  {
   "cell_type": "code",
   "execution_count": null,
   "metadata": {},
   "outputs": [],
   "source": [
    "# addition / subtraction\n",
    "1 + 1 - 5"
   ]
  },
  {
   "cell_type": "code",
   "execution_count": null,
   "metadata": {},
   "outputs": [],
   "source": [
    "# multiplication\n",
    "5 * 10"
   ]
  },
  {
   "cell_type": "code",
   "execution_count": null,
   "metadata": {},
   "outputs": [],
   "source": [
    "# division\n",
    "1 / 2"
   ]
  },
  {
   "cell_type": "code",
   "execution_count": null,
   "metadata": {},
   "outputs": [],
   "source": [
    "# that was automatically converted to a float\n",
    "type(1 / 2)"
   ]
  },
  {
   "cell_type": "code",
   "execution_count": null,
   "metadata": {},
   "outputs": [],
   "source": [
    "# exponentiation\n",
    "2**4"
   ]
  },
  {
   "cell_type": "code",
   "execution_count": null,
   "metadata": {},
   "outputs": [],
   "source": [
    "# rounding\n",
    "round(9 / 10)"
   ]
  },
  {
   "cell_type": "code",
   "execution_count": 1,
   "metadata": {},
   "outputs": [
    {
     "data": {
      "text/plain": [
       "50"
      ]
     },
     "execution_count": 1,
     "metadata": {},
     "output_type": "execute_result"
    }
   ],
   "source": [
    "# floor division\n",
    "101 // 2"
   ]
  },
  {
   "cell_type": "code",
   "execution_count": 2,
   "metadata": {},
   "outputs": [
    {
     "data": {
      "text/plain": [
       "1"
      ]
     },
     "execution_count": 2,
     "metadata": {},
     "output_type": "execute_result"
    }
   ],
   "source": [
    "# modulo\n",
    "101 % 2"
   ]
  },
  {
   "cell_type": "markdown",
   "metadata": {
    "tags": []
   },
   "source": [
    "## Comparison Operators\n",
    "\n",
    "We can compare objects using comparison operators, and we'll get back a Boolean (i.e. True/False) result:\n",
    "\n",
    "| Operator  | Description                          |\n",
    "| :-------- | :----------------------------------- |\n",
    "| `x == y ` | is `x` equal to `y`?                 |\n",
    "| `x != y`  | is `x` not equal to `y`?             |\n",
    "| `x > y`   | is `x` greater than `y`?             |\n",
    "| `x >= y`  | is `x` greater than or equal to `y`? |\n",
    "| `x < y`   | is `x` less than `y`?                |\n",
    "| `x <= y`  | is `x` less than or equal to `y`?    |\n",
    "| `x is y`  | is `x` the same object as `y`?       |"
   ]
  },
  {
   "cell_type": "code",
   "execution_count": null,
   "metadata": {},
   "outputs": [],
   "source": [
    "2 < 3"
   ]
  },
  {
   "cell_type": "code",
   "execution_count": 3,
   "metadata": {},
   "outputs": [
    {
     "data": {
      "text/plain": [
       "False"
      ]
     },
     "execution_count": 3,
     "metadata": {},
     "output_type": "execute_result"
    }
   ],
   "source": [
    "\"energy\" == \"power\""
   ]
  },
  {
   "cell_type": "code",
   "execution_count": null,
   "metadata": {},
   "outputs": [],
   "source": [
    "2 != \"2\""
   ]
  },
  {
   "cell_type": "code",
   "execution_count": null,
   "metadata": {},
   "outputs": [],
   "source": [
    "2 == 2.0"
   ]
  },
  {
   "cell_type": "markdown",
   "metadata": {
    "tags": []
   },
   "source": [
    "## Boolean Operators\n",
    "\n",
    "We also have so-called \"boolean operators\" or \"logical operators\" which also evaluate to either `True` or `False`:\n",
    "\n",
    "| Operator | Description |\n",
    "| :---: | :--- |\n",
    "|`x and y`| are `x` and `y` both True? |\n",
    "|`x or y` | is at least one of `x` and `y` True? |\n",
    "| `not x` | is `x` False? | "
   ]
  },
  {
   "cell_type": "code",
   "execution_count": null,
   "metadata": {},
   "outputs": [],
   "source": [
    "# logic\n",
    "True and True"
   ]
  },
  {
   "cell_type": "code",
   "execution_count": null,
   "metadata": {},
   "outputs": [],
   "source": [
    "True and False"
   ]
  },
  {
   "cell_type": "code",
   "execution_count": null,
   "metadata": {},
   "outputs": [],
   "source": [
    "True or True"
   ]
  },
  {
   "cell_type": "code",
   "execution_count": null,
   "metadata": {},
   "outputs": [],
   "source": [
    "(not True) or (not False)"
   ]
  },
  {
   "cell_type": "markdown",
   "metadata": {},
   "source": [
    "## Conditionals ##\n",
    "\n",
    "Conditionals are the first step to programming and offer an opportunity to get familiar with Python syntax.\n",
    "At their core, conditionals allow a program to make decisions. They dictate the flow of execution based on whether certain conditions are met."
   ]
  },
  {
   "cell_type": "code",
   "execution_count": null,
   "metadata": {},
   "outputs": [],
   "source": [
    "x = 100\n",
    "if x > 0:\n",
    "    print(\"Positive Number\")\n",
    "elif x < 0:\n",
    "    print(\"Negative Number\")\n",
    "else:\n",
    "    print(\"Zero!\")"
   ]
  },
  {
   "cell_type": "markdown",
   "metadata": {},
   "source": [
    "In Python, indentation is **mandatory** and blocks of code are closed by the indentation level."
   ]
  },
  {
   "cell_type": "code",
   "execution_count": null,
   "metadata": {},
   "outputs": [],
   "source": [
    "if x > 0:\n",
    "    print(\"Positive Number\")\n",
    "    if x >= 100:\n",
    "        print(\"Huge number!\")"
   ]
  },
  {
   "cell_type": "markdown",
   "metadata": {},
   "source": [
    "There is also a way to write `if` statements \"inline\", i.e., in a single line, for simplicity."
   ]
  },
  {
   "cell_type": "code",
   "execution_count": null,
   "metadata": {},
   "outputs": [],
   "source": [
    "words = [\"the\", \"list\", \"of\", \"words\"]\n",
    "\n",
    "x = \"long list\" if len(words) > 10 else \"short list\"\n",
    "x"
   ]
  },
  {
   "cell_type": "markdown",
   "metadata": {},
   "source": [
    "## Loops ##"
   ]
  },
  {
   "cell_type": "markdown",
   "metadata": {},
   "source": [
    "**Loops** tell a program to perform repetitive tasks.\n",
    "They govern the flow of execution by repeatedly processing a block of code, often until a certain condition is reached or for a predefined number of iterations.\n",
    "\n",
    "There are two types of loops: the `for` loop, which iterates over a sequence of values, and the `while`` loop, which continues execution as long as a specified condition remains true."
   ]
  },
  {
   "cell_type": "code",
   "execution_count": null,
   "metadata": {},
   "outputs": [],
   "source": [
    "# make a loop\n",
    "count = 0\n",
    "while count < 10:\n",
    "    # bad way\n",
    "    # count = count + 1\n",
    "    # better way\n",
    "    count += 1\n",
    "print(count)"
   ]
  },
  {
   "cell_type": "markdown",
   "metadata": {},
   "source": [
    "<div class=\"alert alert-block alert-info\"><b>Tip: </b> In Python, we always count from 0! </div> "
   ]
  },
  {
   "cell_type": "code",
   "execution_count": null,
   "metadata": {},
   "outputs": [
    {
     "name": "stdout",
     "output_type": "stream",
     "text": [
      "0\n",
      "1\n",
      "2\n",
      "3\n",
      "4\n"
     ]
    }
   ],
   "source": [
    "# use range\n",
    "for i in range(5):\n",
    "    print(i)"
   ]
  },
  {
   "cell_type": "markdown",
   "metadata": {},
   "source": [
    "You can always retrieve the help documentation about a function by calling it with a question mark at the beginning"
   ]
  },
  {
   "cell_type": "code",
   "execution_count": null,
   "metadata": {},
   "outputs": [
    {
     "name": "stdout",
     "output_type": "stream",
     "text": [
      "\u001b[1;31mInit signature:\u001b[0m \u001b[0mrange\u001b[0m\u001b[1;33m(\u001b[0m\u001b[0mself\u001b[0m\u001b[1;33m,\u001b[0m \u001b[1;33m/\u001b[0m\u001b[1;33m,\u001b[0m \u001b[1;33m*\u001b[0m\u001b[0margs\u001b[0m\u001b[1;33m,\u001b[0m \u001b[1;33m**\u001b[0m\u001b[0mkwargs\u001b[0m\u001b[1;33m)\u001b[0m\u001b[1;33m\u001b[0m\u001b[1;33m\u001b[0m\u001b[0m\n",
      "\u001b[1;31mDocstring:\u001b[0m     \n",
      "range(stop) -> range object\n",
      "range(start, stop[, step]) -> range object\n",
      "\n",
      "Return an object that produces a sequence of integers from start (inclusive)\n",
      "to stop (exclusive) by step.  range(i, j) produces i, i+1, i+2, ..., j-1.\n",
      "start defaults to 0, and stop is omitted!  range(4) produces 0, 1, 2, 3.\n",
      "These are exactly the valid indices for a list of 4 elements.\n",
      "When step is given, it specifies the increment (or decrement).\n",
      "\u001b[1;31mType:\u001b[0m           type\n",
      "\u001b[1;31mSubclasses:\u001b[0m     \n"
     ]
    }
   ],
   "source": [
    "# what is range?\n",
    "?range"
   ]
  },
  {
   "cell_type": "code",
   "execution_count": null,
   "metadata": {},
   "outputs": [],
   "source": [
    "# iterate over a list we make up\n",
    "for carrier in [\"electricity\", \"hydrogen\", \"methane\"]:\n",
    "    print(carrier, len(carrier))"
   ]
  },
  {
   "cell_type": "code",
   "execution_count": null,
   "metadata": {},
   "outputs": [],
   "source": [
    "# iterate over a list and count indices\n",
    "for i, carrier in enumerate([\"electricity\", \"hydrogen\", \"methane\"]):\n",
    "    print(i, carrier, len(carrier))"
   ]
  },
  {
   "cell_type": "markdown",
   "metadata": {},
   "source": [
    "What do the brackets mean? __A list!__ Lists are one of the core Python data structures.\n",
    "\n",
    "## Lists ##"
   ]
  },
  {
   "cell_type": "code",
   "execution_count": null,
   "metadata": {},
   "outputs": [],
   "source": [
    "l = [\"electricity\", \"hydrogen\", \"methane\"]\n",
    "type(l)"
   ]
  },
  {
   "cell_type": "code",
   "execution_count": null,
   "metadata": {},
   "outputs": [],
   "source": [
    "# list have lots of methods\n",
    "l.sort()\n",
    "l"
   ]
  },
  {
   "cell_type": "code",
   "execution_count": null,
   "metadata": {},
   "outputs": [],
   "source": [
    "# we can convert a range to a list\n",
    "r = list(range(5))\n",
    "r"
   ]
  },
  {
   "cell_type": "markdown",
   "metadata": {},
   "source": [
    "There are many different ways to interact with lists. For instance:\n",
    "\n",
    "| Function      | Description                                                  |\n",
    "|---------------|--------------------------------------------------------------|\n",
    "| `list.append(x)` | Add an item to the end of the list.                          |\n",
    "| `list.extend(L)` | Extend the list by appending all the items in the given list. |\n",
    "| `list.insert(i, x)` | Insert an item at a given position.                       |\n",
    "| `list.remove(x)` | Remove the first item from the list whose value is x.          |\n",
    "| `list.pop([i])` | Remove the item at the given position in the list, and return it. |\n",
    "| `list.index(x)` | Return the index in the list of the first item whose value is x. |\n",
    "| `list.count(x)` | Return the number of times x appears in the list.              |\n",
    "| `list.sort()`   | Sort the items of the list in place.                          |\n",
    "| `list.reverse()` | Reverse the elements of the list in place.    |"
   ]
  },
  {
   "cell_type": "code",
   "execution_count": null,
   "metadata": {},
   "outputs": [],
   "source": [
    "# join two lists\n",
    "x = list(range(5))\n",
    "y = list(range(10, 15))\n",
    "z = x + y\n",
    "z"
   ]
  },
  {
   "cell_type": "code",
   "execution_count": null,
   "metadata": {},
   "outputs": [],
   "source": [
    "# access items from a list\n",
    "print(\"first\", z[0])\n",
    "print(\"last\", z[-1])\n",
    "print(\"first 3\", z[:3])\n",
    "print(\"last 3\", z[-3:])"
   ]
  },
  {
   "cell_type": "code",
   "execution_count": null,
   "metadata": {},
   "outputs": [],
   "source": [
    "# this index notation also applies to strings\n",
    "name = \"Power Plant Reuter-West\"\n",
    "print(name[:5])"
   ]
  },
  {
   "cell_type": "code",
   "execution_count": null,
   "metadata": {},
   "outputs": [],
   "source": [
    "# you can also test for the presence of items in a list\n",
    "5 in z"
   ]
  },
  {
   "cell_type": "markdown",
   "metadata": {},
   "source": [
    "Python is full of tricks for iterating and working with lists"
   ]
  },
  {
   "cell_type": "code",
   "execution_count": null,
   "metadata": {},
   "outputs": [],
   "source": [
    "# a cool Python trick: list comprehension\n",
    "squares = [n**2 for n in range(5)]\n",
    "squares"
   ]
  },
  {
   "cell_type": "code",
   "execution_count": null,
   "metadata": {},
   "outputs": [],
   "source": [
    "# iterate over two lists together uzing zip\n",
    "for item1, item2 in zip(x, y):\n",
    "    print(\"first:\", item1, \"second:\", item2)"
   ]
  },
  {
   "cell_type": "markdown",
   "metadata": {},
   "source": [
    "## Functions ##\n",
    "\n",
    "For longer and more complex tasks, it is important to organize your code into reuseable elements.\n",
    "\n",
    "Cutting and pasting the same or similar lines of code is tedious and opens you up to errors.\n",
    "\n",
    "Best practice is to follow the **DRY** principle: \"don't repeat yourself\".\n",
    "\n",
    "In Python, you can use **functions** for this purpose.\n",
    "\n",
    "Functions are a central part of advanced Python programming.\n",
    "\n",
    "Functions take some inputs (\"arguments\") and do something in response.\n",
    "\n",
    "Usually functions return something, but not always."
   ]
  },
  {
   "cell_type": "code",
   "execution_count": 6,
   "metadata": {},
   "outputs": [],
   "source": [
    "# define a function without arguments\n",
    "def say_hello():\n",
    "    \"\"\"Return the word hello.\"\"\"\n",
    "    return \"Hello\""
   ]
  },
  {
   "cell_type": "code",
   "execution_count": 7,
   "metadata": {},
   "outputs": [
    {
     "data": {
      "text/plain": [
       "function"
      ]
     },
     "execution_count": 7,
     "metadata": {},
     "output_type": "execute_result"
    }
   ],
   "source": [
    "# functions are also objects\n",
    "type(say_hello)"
   ]
  },
  {
   "cell_type": "code",
   "execution_count": 8,
   "metadata": {},
   "outputs": [
    {
     "data": {
      "text/plain": [
       "'Hello'"
      ]
     },
     "execution_count": 8,
     "metadata": {},
     "output_type": "execute_result"
    }
   ],
   "source": [
    "# this does\n",
    "say_hello()"
   ]
  },
  {
   "cell_type": "code",
   "execution_count": 9,
   "metadata": {},
   "outputs": [
    {
     "data": {
      "text/plain": [
       "'Hello'"
      ]
     },
     "execution_count": 9,
     "metadata": {},
     "output_type": "execute_result"
    }
   ],
   "source": [
    "# assign the result to something\n",
    "res = say_hello()\n",
    "res"
   ]
  },
  {
   "cell_type": "code",
   "execution_count": 10,
   "metadata": {
    "tags": []
   },
   "outputs": [],
   "source": [
    "# take some arguments\n",
    "def say_hello_to(name):\n",
    "    \"\"\"Return a greeting to `name`\"\"\"\n",
    "    return \"Hello \" + name"
   ]
  },
  {
   "cell_type": "code",
   "execution_count": 11,
   "metadata": {},
   "outputs": [
    {
     "data": {
      "text/plain": [
       "'Hello World'"
      ]
     },
     "execution_count": 11,
     "metadata": {},
     "output_type": "execute_result"
    }
   ],
   "source": [
    "# intended usage\n",
    "say_hello_to(\"World\")"
   ]
  },
  {
   "cell_type": "code",
   "execution_count": null,
   "metadata": {},
   "outputs": [],
   "source": [
    "# take an optional keyword argument\n",
    "def say_hello(name, german=False):\n",
    "    \"\"\"Say hello in multiple languages.\"\"\"\n",
    "    if german:\n",
    "        greeting = \"Guten Tag \"\n",
    "    else:\n",
    "        greeting = \"Hello \"\n",
    "    return greeting + name"
   ]
  },
  {
   "cell_type": "code",
   "execution_count": null,
   "metadata": {},
   "outputs": [],
   "source": [
    "print(say_hello(\"Mary\"))\n",
    "print(say_hello(\"Max\", german=True))"
   ]
  }
 ],
 "metadata": {
  "kernelspec": {
   "display_name": "data_env",
   "language": "python",
   "name": "python3"
  },
  "language_info": {
   "codemirror_mode": {
    "name": "ipython",
    "version": 3
   },
   "file_extension": ".py",
   "mimetype": "text/x-python",
   "name": "python",
   "nbconvert_exporter": "python",
   "pygments_lexer": "ipython3",
   "version": "3.9.15"
  }
 },
 "nbformat": 4,
 "nbformat_minor": 4
}
